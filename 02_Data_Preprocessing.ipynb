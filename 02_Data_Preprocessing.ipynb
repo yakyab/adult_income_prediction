{
 "cells": [
  {
   "cell_type": "markdown",
   "source": [
    "## Data Preprocessing\n",
    "In this notebook, we are going to preprocess the Adult dataset in preparation for machine learning. Preprocessing is an essential step in machine learning projects that can impact the performance of the models. This step includes cleaning the data, handling missing values, encoding categorical variables, scaling numerical variables, and splitting the dataset into training and testing sets.\n",
    "\n",
    "The goal of this preprocessing step is to convert the data into a suitable format that can be used by machine learning algorithms."
   ],
   "metadata": {
    "collapsed": false
   }
  },
  {
   "cell_type": "markdown",
   "source": [
    "### Import necessary libraries\n",
    "Before we start, let's import the libraries we will need."
   ],
   "metadata": {
    "collapsed": false
   }
  },
  {
   "cell_type": "code",
   "execution_count": 8,
   "metadata": {
    "collapsed": true
   },
   "outputs": [],
   "source": [
    "import pandas as pd\n",
    "from sklearn.preprocessing import StandardScaler"
   ]
  },
  {
   "cell_type": "markdown",
   "source": [
    "### Load the dataset\n",
    "Now, let's load the dataset using pandas."
   ],
   "metadata": {
    "collapsed": false
   }
  },
  {
   "cell_type": "code",
   "execution_count": 2,
   "outputs": [],
   "source": [
    "url = \"https://archive.ics.uci.edu/ml/machine-learning-databases/adult/adult.data\"\n",
    "columns = ['age', 'workclass', 'fnlwgt', 'education', 'education-num', 'marital-status', 'occupation', 'relationship', 'race', 'sex', 'capital-gain', 'capital-loss', 'hours-per-week', 'native-country', 'income']\n",
    "data = pd.read_csv(url, names=columns, header=None, na_values=\"?\", skipinitialspace=True)"
   ],
   "metadata": {
    "collapsed": false,
    "pycharm": {
     "name": "#%%\n"
    }
   }
  },
  {
   "cell_type": "markdown",
   "source": [
    "### Handling Missing Values\n",
    "Let's replace the missing values in categorical variables with the mode (most common value)"
   ],
   "metadata": {
    "collapsed": false
   }
  },
  {
   "cell_type": "code",
   "execution_count": 4,
   "outputs": [],
   "source": [
    "data['workclass'].fillna(data['workclass'].mode()[0], inplace=True)\n",
    "data['occupation'].fillna(data['occupation'].mode()[0], inplace=True)\n",
    "data['native-country'].fillna(data['native-country'].mode()[0], inplace=True)"
   ],
   "metadata": {
    "collapsed": false,
    "pycharm": {
     "name": "#%%\n"
    }
   }
  },
  {
   "cell_type": "markdown",
   "source": [
    "### Encoding Categorical Variables\n",
    "\n",
    "Machine learning models require input to be numerical. However, our dataset contains categorical variables. To convert these categorical variables into a format that can be provided to a machine learning algorithm, we use a technique known as one-hot encoding. This process converts each unique value in a categorical column into a separate feature (or column) in the dataset, which is marked as '1' or '0' depending on whether the original value matches the new column or not."
   ],
   "metadata": {
    "collapsed": false
   }
  },
  {
   "cell_type": "code",
   "execution_count": 7,
   "outputs": [],
   "source": [
    "data_encoded = pd.get_dummies(data, columns=['workclass', 'education', 'marital-status', 'occupation', 'relationship', 'race', 'sex', 'native-country'])"
   ],
   "metadata": {
    "collapsed": false,
    "pycharm": {
     "name": "#%%\n"
    }
   }
  },
  {
   "cell_type": "markdown",
   "source": [
    "### Scaling Numerical Variables\n",
    "\n",
    "Before applying machine learning algorithms, it's usually a good practice to scale numerical features so that they have a mean of 0 and a standard deviation of 1. This standardization of values (which does not change their distribution, as would be the case with normalization, for example) can help some machine learning algorithms perform better and converge faster. In this step, we will use Scikit-Learn's StandardScaler to scale the numerical features."
   ],
   "metadata": {
    "collapsed": false
   }
  },
  {
   "cell_type": "code",
   "execution_count": 9,
   "outputs": [],
   "source": [
    "scaler = StandardScaler()\n",
    "data_encoded[['age', 'fnlwgt', 'education-num', 'capital-gain', 'capital-loss', 'hours-per-week']] = scaler.fit_transform(data_encoded[['age', 'fnlwgt', 'education-num', 'capital-gain', 'capital-loss', 'hours-per-week']])"
   ],
   "metadata": {
    "collapsed": false,
    "pycharm": {
     "name": "#%%\n"
    }
   }
  },
  {
   "cell_type": "markdown",
   "source": [
    "### Saving the Preprocessed Data\n",
    "\n",
    "After all the preprocessing steps, we have a dataset that's ready to be used for further analysis, visualization, and machine learning. It's important to save this dataset, as the preprocessing steps (such as cleaning, handling missing values, encoding, and scaling) don't need to be repeated. The processed data will be saved in a CSV file, which can be easily loaded in the subsequent notebooks."
   ],
   "metadata": {
    "collapsed": false
   }
  },
  {
   "cell_type": "code",
   "execution_count": 10,
   "outputs": [],
   "source": [
    "data_encoded.to_csv('adult_data_preprocessed.csv', index=False)"
   ],
   "metadata": {
    "collapsed": false,
    "pycharm": {
     "name": "#%%\n"
    }
   }
  },
  {
   "cell_type": "markdown",
   "source": [
    "## Business Summary\n",
    "\n",
    "From a business perspective, these preprocessing steps are crucial to preparing our data for further analysis and machine learning. By dealing with missing values, we ensure that our machine learning models will be trained on a complete dataset, leading to more reliable predictions. By transforming categorical variables into a numerical format and scaling numerical variables, we allow a wider range of machine learning algorithms to be applied to our dataset. This increases the chances of finding a high-performing model that can provide valuable insights for decision-making."
   ],
   "metadata": {
    "collapsed": false
   }
  },
  {
   "cell_type": "markdown",
   "source": [
    "## General Summary\n",
    "\n",
    "In this notebook, we carried out several preprocessing steps on the \"Adult\" dataset.\n",
    "\n",
    "1. We began by loading the data from a URL and displaying the first few rows to understand its structure.\n",
    "2. Next, we handled missing values. The dataset used the \"?\" character to denote missing values. We replaced these with NaNs and then filled them using the most frequent value in each column.\n",
    "3. We then converted categorical variables into numeric format using one-hot encoding. This step is essential as many machine learning algorithms can only handle numeric input.\n",
    "4. After that, we scaled the numerical variables using StandardScaler. This step is important because many machine learning algorithms perform better when the input variables are on the same scale.\n",
    "5. Finally, we saved the preprocessed data to a CSV file, so we can easily load it in the subsequent notebooks for further analysis, visualization, and machine learning.\n",
    "\n",
    "In the next notebooks, we will be able to focus on exploring the relationships between different variables in the data, visualizing these relationships, and eventually training machine learning models. All these steps will bring us closer to our business goal of predicting whether a person earns over 50k a year, which could help in making informed decisions in a variety of contexts, such as targeted advertising, policy planning, or resource allocation."
   ],
   "metadata": {
    "collapsed": false,
    "pycharm": {
     "name": "#%% md\n"
    }
   }
  }
 ],
 "metadata": {
  "kernelspec": {
   "display_name": "Python 3",
   "language": "python",
   "name": "python3"
  },
  "language_info": {
   "codemirror_mode": {
    "name": "ipython",
    "version": 2
   },
   "file_extension": ".py",
   "mimetype": "text/x-python",
   "name": "python",
   "nbconvert_exporter": "python",
   "pygments_lexer": "ipython2",
   "version": "2.7.6"
  }
 },
 "nbformat": 4,
 "nbformat_minor": 0
}